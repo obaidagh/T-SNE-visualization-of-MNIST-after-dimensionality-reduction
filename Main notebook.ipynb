{
 "cells": [
  {
   "cell_type": "code",
   "execution_count": 1,
   "id": "dc09caf2-e33c-4499-a4e8-feb5b4c2aad1",
   "metadata": {},
   "outputs": [],
   "source": [
    "import tensorflow as tf\n",
    "from tensorflow import keras\n",
    "from keras import layers,Input,Model,activations,Sequential,callbacks\n",
    "from keras.utils.vis_utils import plot_model\n",
    "\n",
    "from sklearn.model_selection import train_test_split\n",
    "import matplotlib.pyplot as plt\n",
    "import numpy as np\n",
    "import os"
   ]
  },
  {
   "cell_type": "code",
   "execution_count": 2,
   "id": "4224bf38-8a90-4c3d-bfa7-d4e907daae1a",
   "metadata": {},
   "outputs": [],
   "source": [
    "(x_train, y_train_), (x_val, y_val_) = keras.datasets.mnist.load_data()\n"
   ]
  },
  {
   "cell_type": "code",
   "execution_count": 3,
   "id": "e4d36f07-51c8-4fce-bbf1-b6db8592ab0f",
   "metadata": {},
   "outputs": [],
   "source": [
    "x_train = np.expand_dims(x_train, -1).astype(\"float32\") / 255\n",
    "x_val = np.expand_dims(x_val, -1).astype(\"float32\") / 255"
   ]
  },
  {
   "cell_type": "code",
   "execution_count": 4,
   "id": "54ffc162-65db-4fd4-a72a-5d8580c9ada6",
   "metadata": {},
   "outputs": [],
   "source": [
    "def auto_encoder():\n",
    "    input_shape=(28, 28,1)\n",
    "    \n",
    "    input_img = Input(shape=input_shape)\n",
    "    x      = layers.Conv2D(filters=1,kernel_size=3, padding='same',activation='relu')(input_img)\n",
    "    x      = layers.BatchNormalization()(x) \n",
    "    x      = layers.Activation(activations.relu)(x)\n",
    "    \n",
    "    x      = layers.Flatten()(x)\n",
    "    x      = layers.Dense(150, activation=\"relu\",kernel_initializer='he_normal')(x)\n",
    "    x      = layers.Dense(30, activation=\"relu\",kernel_initializer='he_normal')(x)\n",
    "    code   = layers.Dense(9, activation=\"relu\",kernel_initializer='he_normal')(x)\n",
    "\n",
    "    De_in  = layers.Dense(30, activation=\"relu\",kernel_initializer='he_normal')(code)\n",
    "    z      = layers.Dense(150, activation=\"relu\",kernel_initializer='he_normal')(De_in)\n",
    "    z      = layers.Dense(784, activation=\"relu\",kernel_initializer='he_normal')(z)\n",
    "    \n",
    "    z      = layers.Reshape((28, 28, 1))(z)\n",
    "\n",
    "    de_out = layers.Conv2DTranspose(filters=1,kernel_size=1,activation='relu',padding='same')(z)\n",
    "    \n",
    "    Encoder=Model(input_img, code)\n",
    "    Decoder=Model(De_in, de_out)\n",
    "    Autoencoder=Model(input_img, de_out)\n",
    "\n",
    "    \n",
    "\n",
    "    learning_rate=1e-4\n",
    "    decay_rate = learning_rate / 10\n",
    "    optimizer   = keras.optimizers.Adam(learning_rate=learning_rate,decay=decay_rate)\n",
    "    Autoencoder.compile(optimizer=optimizer, loss='mean_squared_error', metrics=['mean_absolute_error'])\n",
    "\n",
    "    return Encoder,Decoder,Autoencoder\n"
   ]
  },
  {
   "cell_type": "code",
   "execution_count": 5,
   "id": "dc8bfdac-2f99-4f1f-a52d-167e2db7e9bc",
   "metadata": {},
   "outputs": [
    {
     "name": "stdout",
     "output_type": "stream",
     "text": [
      "Model: \"model_2\"\n",
      "_________________________________________________________________\n",
      " Layer (type)                Output Shape              Param #   \n",
      "=================================================================\n",
      " input_1 (InputLayer)        [(None, 28, 28, 1)]       0         \n",
      "                                                                 \n",
      " conv2d (Conv2D)             (None, 28, 28, 1)         10        \n",
      "                                                                 \n",
      " batch_normalization (BatchN  (None, 28, 28, 1)        4         \n",
      " ormalization)                                                   \n",
      "                                                                 \n",
      " activation (Activation)     (None, 28, 28, 1)         0         \n",
      "                                                                 \n",
      " flatten (Flatten)           (None, 784)               0         \n",
      "                                                                 \n",
      " dense (Dense)               (None, 150)               117750    \n",
      "                                                                 \n",
      " dense_1 (Dense)             (None, 30)                4530      \n",
      "                                                                 \n",
      " dense_2 (Dense)             (None, 9)                 279       \n",
      "                                                                 \n",
      " dense_3 (Dense)             (None, 30)                300       \n",
      "                                                                 \n",
      " dense_4 (Dense)             (None, 150)               4650      \n",
      "                                                                 \n",
      " dense_5 (Dense)             (None, 784)               118384    \n",
      "                                                                 \n",
      " reshape (Reshape)           (None, 28, 28, 1)         0         \n",
      "                                                                 \n",
      " conv2d_transpose (Conv2DTra  (None, 28, 28, 1)        2         \n",
      " nspose)                                                         \n",
      "                                                                 \n",
      "=================================================================\n",
      "Total params: 245,909\n",
      "Trainable params: 245,907\n",
      "Non-trainable params: 2\n",
      "_________________________________________________________________\n"
     ]
    },
    {
     "name": "stderr",
     "output_type": "stream",
     "text": [
      "2022-05-08 02:27:55.627687: E tensorflow/stream_executor/cuda/cuda_driver.cc:271] failed call to cuInit: CUDA_ERROR_NO_DEVICE: no CUDA-capable device is detected\n",
      "2022-05-08 02:27:55.627745: I tensorflow/stream_executor/cuda/cuda_diagnostics.cc:156] kernel driver does not appear to be running on this host (UB): /proc/driver/nvidia/version does not exist\n",
      "2022-05-08 02:27:55.628412: I tensorflow/core/platform/cpu_feature_guard.cc:151] This TensorFlow binary is optimized with oneAPI Deep Neural Network Library (oneDNN) to use the following CPU instructions in performance-critical operations:  AVX2 FMA\n",
      "To enable them in other operations, rebuild TensorFlow with the appropriate compiler flags.\n"
     ]
    }
   ],
   "source": [
    "Encoder,Decoder,Autoencoder= auto_encoder()\n",
    "Autoencoder.summary()"
   ]
  },
  {
   "cell_type": "code",
   "execution_count": 6,
   "id": "a1a192af-d366-4066-8525-13051c135820",
   "metadata": {},
   "outputs": [],
   "source": [
    "reduce_LR = callbacks.ReduceLROnPlateau(monitor='val_mean_absolute_error',patience=2, verbose=1, factor=0.5, min_lr=0.000000001)\n",
    "early_stopping = callbacks.EarlyStopping(monitor='val_loss', patience=30,restore_best_weights=True,verbose=0)\n"
   ]
  },
  {
   "cell_type": "code",
   "execution_count": null,
   "id": "33e27623-ee1e-4e37-ac2a-a9906416ce13",
   "metadata": {},
   "outputs": [],
   "source": [
    "weights_file = 'Tsne_mnist_mlp.h5'\n",
    "\n",
    "if os.path.exists(weights_file):\n",
    "    Autoencoder.load_weights(weights_file)\n",
    "    my_history=np.load('./Models/my_history.npy',allow_pickle='TRUE').item()\n",
    "    print('Loaded weights!')\n",
    "else:\n",
    "    history_keras =  Autoencoder.fit(x_train,x_train, epochs=200, validation_data=(x_val,x_val), callbacks=[early_stopping],verbose=1)\n",
    "    Autoencoder.save_weights('space_mlp.h5')\n",
    "    np.save('my_history.npy',history_keras.history)\n",
    "    my_history=history_keras.history"
   ]
  }
 ],
 "metadata": {
  "kernelspec": {
   "display_name": "Python 3 (ipykernel)",
   "language": "python",
   "name": "python3"
  },
  "language_info": {
   "codemirror_mode": {
    "name": "ipython",
    "version": 3
   },
   "file_extension": ".py",
   "mimetype": "text/x-python",
   "name": "python",
   "nbconvert_exporter": "python",
   "pygments_lexer": "ipython3",
   "version": "3.9.7"
  }
 },
 "nbformat": 4,
 "nbformat_minor": 5
}
