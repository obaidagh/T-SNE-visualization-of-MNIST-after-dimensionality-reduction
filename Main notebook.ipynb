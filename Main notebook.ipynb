{
 "cells": [
  {
   "cell_type": "code",
   "execution_count": 1,
   "id": "90fe192f-14ae-4c7e-aed0-72a708f7b337",
   "metadata": {
    "_cell_guid": "b1076dfc-b9ad-4769-8c92-a6c4dae69d19",
    "_uuid": "8f2839f25d086af736a60e9eeb907d3b93b6e0e5",
    "tags": []
   },
   "outputs": [],
   "source": [
    "import tensorflow as tf\n",
    "from tensorflow import keras\n",
    "from keras import layers,Input,Model,activations,Sequential,callbacks\n",
    "from keras.utils.vis_utils import plot_model\n",
    "\n",
    "from sklearn.model_selection import train_test_split\n",
    "import matplotlib.pyplot as plt\n",
    "import numpy as np\n",
    "import os"
   ]
  },
  {
   "cell_type": "code",
   "execution_count": 2,
   "id": "eccb76e0-1c43-494f-9cad-8d56659d2d41",
   "metadata": {
    "tags": []
   },
   "outputs": [],
   "source": [
    "(x_train, y_train_), (x_val, y_val_) = keras.datasets.mnist.load_data()\n",
    "\n",
    "x_train = np.expand_dims(x_train, -1).astype(\"float32\") / 255\n",
    "x_val = np.expand_dims(x_val, -1).astype(\"float32\") / 255"
   ]
  },
  {
   "cell_type": "code",
   "execution_count": 7,
   "id": "2b36b09e-67f3-47f0-83a5-b8fee01237e3",
   "metadata": {
    "tags": []
   },
   "outputs": [],
   "source": [
    "def auto_encoder(input_shape=(28, 28,1),code_size=9):\n",
    "    input_img = Input(shape=input_shape, name=\"encoder_input\")\n",
    "    x      = layers.Conv2D(filters=1,kernel_size=3, padding='same', activation=\"relu\",kernel_initializer='he_normal')(input_img)\n",
    "    x      = layers.Flatten()(x)\n",
    "    x      = layers.Dense(150, activation=\"elu\",kernel_initializer='he_normal')(x)\n",
    "    x      = layers.Dense(30, activation=\"elu\",kernel_initializer='he_normal')(x)\n",
    "    code   = layers.Dense(code_size, activation=\"elu\",kernel_initializer='he_normal')(x)\n",
    "\n",
    "    De_in=Input(shape=(code_size,) , name=\"decoder_input\")\n",
    "    z      = layers.Dense(30, activation=\"elu\",kernel_initializer='he_normal')(De_in)\n",
    "    z      = layers.Dense(150, activation=\"elu\",kernel_initializer='he_normal')(z)\n",
    "    z      = layers.Dense(input_shape[0]*input_shape[1], activation=\"elu\",kernel_initializer='he_normal')(z)\n",
    "    z      = layers.Reshape((28, 28, 1))(z)\n",
    "\n",
    "    de_out = layers.Conv2DTranspose(filters=1,kernel_size=1,activation='relu',padding='same',kernel_initializer='he_normal')(z)\n",
    "\n",
    "    Encoder=Model(input_img, code)\n",
    "    Decoder=Model(De_in, de_out)\n",
    "\n",
    "    code_decoded=Decoder(code)\n",
    "\n",
    "    Autoencoder=Model(input_img, code_decoded)\n",
    "\n",
    "\n",
    "\n",
    "    learning_rate=0.003\n",
    "    optimizer   = keras.optimizers.Adam(learning_rate=learning_rate)\n",
    "    Autoencoder.compile(optimizer=optimizer, loss='mean_squared_error', metrics=['mean_squared_error'])\n",
    "    return Encoder,Decoder,Autoencoder"
   ]
  },
  {
   "cell_type": "code",
   "execution_count": 8,
   "id": "9aa82927-d180-4817-af76-f13284b27206",
   "metadata": {
    "tags": []
   },
   "outputs": [
    {
     "name": "stdout",
     "output_type": "stream",
     "text": [
      "Model: \"model_5\"\n",
      "_________________________________________________________________\n",
      " Layer (type)                Output Shape              Param #   \n",
      "=================================================================\n",
      " encoder_input (InputLayer)  [(None, 28, 28, 1)]       0         \n",
      "                                                                 \n",
      " conv2d_1 (Conv2D)           (None, 28, 28, 1)         10        \n",
      "                                                                 \n",
      " flatten_1 (Flatten)         (None, 784)               0         \n",
      "                                                                 \n",
      " dense_6 (Dense)             (None, 150)               117750    \n",
      "                                                                 \n",
      " dense_7 (Dense)             (None, 30)                4530      \n",
      "                                                                 \n",
      " dense_8 (Dense)             (None, 9)                 279       \n",
      "                                                                 \n",
      " model_4 (Functional)        (None, 28, 28, 1)         123336    \n",
      "                                                                 \n",
      "=================================================================\n",
      "Total params: 245,905\n",
      "Trainable params: 245,905\n",
      "Non-trainable params: 0\n",
      "_________________________________________________________________\n"
     ]
    }
   ],
   "source": [
    "Encoder,Decoder,Autoencoder= auto_encoder(input_shape=(28, 28,1),code_size=9)\n",
    "Autoencoder.summary()"
   ]
  },
  {
   "cell_type": "code",
   "execution_count": 9,
   "id": "a1553f2c-ec92-4d90-aab7-17209b70d7c9",
   "metadata": {
    "tags": []
   },
   "outputs": [],
   "source": [
    "reduce_LR = callbacks.ReduceLROnPlateau(monitor='val_mean_absolute_error',patience=2, verbose=1, factor=0.5, min_lr=0.000000001)\n",
    "early_stopping = callbacks.EarlyStopping(monitor='val_loss', patience=30,restore_best_weights=True,verbose=0)\n"
   ]
  },
  {
   "cell_type": "code",
   "execution_count": 10,
   "id": "2d8a75aa-9dc8-48c0-8f00-bb40d2ae5d5f",
   "metadata": {
    "tags": []
   },
   "outputs": [
    {
     "name": "stdout",
     "output_type": "stream",
     "text": [
      "Loaded weights!\n"
     ]
    }
   ],
   "source": [
    "weights_file = 'Tsne_mnist_mlp.h5'\n",
    "\n",
    "if os.path.exists(weights_file):\n",
    "    Autoencoder.load_weights(weights_file)\n",
    "    my_history=np.load('my_history.npy',allow_pickle='TRUE').item()\n",
    "    print('Loaded weights!')\n",
    "else:\n",
    "    history_keras =  Autoencoder.fit(x_train,x_train, epochs=200, validation_data=(x_val,x_val), callbacks=[early_stopping],verbose=1)\n",
    "    Autoencoder.save_weights('space_mlp.h5')\n",
    "    np.save('my_history.npy',history_keras.history)\n",
    "    my_history=history_keras.history"
   ]
  },
  {
   "cell_type": "code",
   "execution_count": null,
   "id": "5431ff3b-4ab5-4b43-ba57-6aa1a3df7ecb",
   "metadata": {},
   "outputs": [],
   "source": [
    "Autoencoder.predict"
   ]
  },
  {
   "cell_type": "code",
   "execution_count": null,
   "id": "0b75e298-787e-4dbd-8cda-ffd22ed49bea",
   "metadata": {},
   "outputs": [],
   "source": []
  }
 ],
 "metadata": {
  "kernelspec": {
   "display_name": "Python 3 (ipykernel)",
   "language": "python",
   "name": "python3"
  },
  "language_info": {
   "codemirror_mode": {
    "name": "ipython",
    "version": 3
   },
   "file_extension": ".py",
   "mimetype": "text/x-python",
   "name": "python",
   "nbconvert_exporter": "python",
   "pygments_lexer": "ipython3",
   "version": "3.9.7"
  }
 },
 "nbformat": 4,
 "nbformat_minor": 5
}
