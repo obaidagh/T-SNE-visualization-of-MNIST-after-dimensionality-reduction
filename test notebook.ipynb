{
 "cells": [
  {
   "cell_type": "code",
   "execution_count": 1,
   "id": "db3283fe-a61b-45aa-9513-9f1dcb53bfea",
   "metadata": {},
   "outputs": [],
   "source": [
    "from Models.Autoencoder import Compile_model,Train_model"
   ]
  },
  {
   "cell_type": "code",
   "execution_count": 2,
   "id": "5a4088de-e140-405f-8831-6ed3457e1e9b",
   "metadata": {},
   "outputs": [
    {
     "name": "stdout",
     "output_type": "stream",
     "text": [
      "Model: \"model_2\"\n",
      "_________________________________________________________________\n",
      " Layer (type)                Output Shape              Param #   \n",
      "=================================================================\n",
      " encoder_input (InputLayer)  [(None, 28, 28, 1)]       0         \n",
      "                                                                 \n",
      " conv2d (Conv2D)             (None, 28, 28, 1)         10        \n",
      "                                                                 \n",
      " flatten (Flatten)           (None, 784)               0         \n",
      "                                                                 \n",
      " dense (Dense)               (None, 150)               117750    \n",
      "                                                                 \n",
      " dense_1 (Dense)             (None, 30)                4530      \n",
      "                                                                 \n",
      " dense_2 (Dense)             (None, 9)                 279       \n",
      "                                                                 \n",
      " model_1 (Functional)        (None, 28, 28, 1)         123336    \n",
      "                                                                 \n",
      "=================================================================\n",
      "Total params: 245,905\n",
      "Trainable params: 245,905\n",
      "Non-trainable params: 0\n",
      "_________________________________________________________________\n"
     ]
    },
    {
     "name": "stderr",
     "output_type": "stream",
     "text": [
      "2022-05-09 02:29:11.559654: E tensorflow/stream_executor/cuda/cuda_driver.cc:271] failed call to cuInit: CUDA_ERROR_NO_DEVICE: no CUDA-capable device is detected\n",
      "2022-05-09 02:29:11.559712: I tensorflow/stream_executor/cuda/cuda_diagnostics.cc:156] kernel driver does not appear to be running on this host (UB): /proc/driver/nvidia/version does not exist\n",
      "2022-05-09 02:29:11.560531: I tensorflow/core/platform/cpu_feature_guard.cc:151] This TensorFlow binary is optimized with oneAPI Deep Neural Network Library (oneDNN) to use the following CPU instructions in performance-critical operations:  AVX2 FMA\n",
      "To enable them in other operations, rebuild TensorFlow with the appropriate compiler flags.\n"
     ]
    }
   ],
   "source": [
    "Encoder,Decoder,Autoencoder= Compile_model(input_shape=(28, 28,1),code_size=9)\n",
    "Autoencoder.summary()"
   ]
  },
  {
   "cell_type": "code",
   "execution_count": 3,
   "id": "cbbd2d1e-1348-4652-894c-4d3969466a08",
   "metadata": {},
   "outputs": [],
   "source": [
    "from tensorflow import keras\n",
    "import numpy as np\n",
    "\n",
    "(x_train, y_train_), (x_val, y_val_) = keras.datasets.mnist.load_data()\n",
    "\n",
    "x_train = np.expand_dims(x_train, -1).astype(\"float32\") / 255\n",
    "x_val = np.expand_dims(x_val, -1).astype(\"float32\") / 255"
   ]
  },
  {
   "cell_type": "code",
   "execution_count": 4,
   "id": "6676be8d-2255-47cb-b277-16286429d15e",
   "metadata": {},
   "outputs": [
    {
     "name": "stdout",
     "output_type": "stream",
     "text": [
      "Loaded weights!\n"
     ]
    }
   ],
   "source": [
    "Model,my_history=Train_model(Autoencoder,x_train,x_train,x_val,x_val)"
   ]
  },
  {
   "cell_type": "code",
   "execution_count": 5,
   "id": "3b6248d9-d85f-4415-a2bc-eb8f2ec4fafe",
   "metadata": {},
   "outputs": [
    {
     "name": "stderr",
     "output_type": "stream",
     "text": [
      "2022-05-09 02:29:47.149331: W tensorflow/core/framework/cpu_allocator_impl.cc:82] Allocation of 188160000 exceeds 10% of free system memory.\n"
     ]
    }
   ],
   "source": [
    "temp=Encoder.predict(x_train)\n"
   ]
  },
  {
   "cell_type": "code",
   "execution_count": 6,
   "id": "40cfb7d1-fb54-40a9-81b5-60e0c19e2500",
   "metadata": {},
   "outputs": [
    {
     "data": {
      "text/plain": [
       "(60000,)"
      ]
     },
     "execution_count": 6,
     "metadata": {},
     "output_type": "execute_result"
    }
   ],
   "source": [
    "temp.shape\n",
    "y_train_.shape"
   ]
  },
  {
   "cell_type": "code",
   "execution_count": 7,
   "id": "63d5a359-01a1-432e-8030-6e8fb4ce1f73",
   "metadata": {},
   "outputs": [
    {
     "name": "stderr",
     "output_type": "stream",
     "text": [
      "2022-05-09 02:29:56.264523: W tensorflow/core/framework/cpu_allocator_impl.cc:82] Allocation of 188160000 exceeds 10% of free system memory.\n"
     ]
    }
   ],
   "source": [
    "x_test_predicted=Decoder.predict(temp)\n"
   ]
  },
  {
   "cell_type": "code",
   "execution_count": 10,
   "id": "37ca7934-a37c-41e5-a31e-032bfa786015",
   "metadata": {},
   "outputs": [],
   "source": [
    "import matplotlib.pyplot as plt\n"
   ]
  },
  {
   "cell_type": "code",
   "execution_count": 11,
   "id": "f76dbcdb-df1d-42fc-b5ee-4f642c32d35b",
   "metadata": {},
   "outputs": [
    {
     "data": {
      "text/plain": [
       "<matplotlib.image.AxesImage at 0x7effa00b4910>"
      ]
     },
     "execution_count": 11,
     "metadata": {},
     "output_type": "execute_result"
    },
    {
     "data": {
      "image/png": "[encoded data removed]",
      "text/plain": [
       "<Figure size 432x288 with 1 Axes>"
      ]
     },
     "metadata": {
      "needs_background": "light"
     },
     "output_type": "display_data"
    }
   ],
   "source": [
    "plt.imshow(x_val[1], cmap='gray',)"
   ]
  },
  {
   "cell_type": "code",
   "execution_count": null,
   "id": "1c8d9d30-720a-47c8-9894-9ec019053264",
   "metadata": {},
   "outputs": [],
   "source": [
    "np.save('my_history.npy',history_keras.history)\n",
    "np.load('my_history.npy',allow_pickle='TRUE').item()"
   ]
  },
  {
   "cell_type": "code",
   "execution_count": 12,
   "id": "ff15ff25-af2c-42c9-b99e-1d9f937115e9",
   "metadata": {},
   "outputs": [
    {
     "data": {
      "text/plain": [
       "<matplotlib.image.AxesImage at 0x7eff88b0b4f0>"
      ]
     },
     "execution_count": 12,
     "metadata": {},
     "output_type": "execute_result"
    },
    {
     "data": {
      "image/png": "[encoded data removed]",
      "text/plain": [
       "<Figure size 432x288 with 1 Axes>"
      ]
     },
     "metadata": {
      "needs_background": "light"
     },
     "output_type": "display_data"
    }
   ],
   "source": [
    "plt.imshow(x_test_predicted[1], cmap='gray',)"
   ]
  },
  {
   "cell_type": "code",
   "execution_count": null,
   "id": "7ac9a6b9-3bc5-4478-8b6d-8a3ce69dd0fd",
   "metadata": {},
   "outputs": [],
   "source": []
  }
 ],
 "metadata": {
  "kernelspec": {
   "display_name": "Python 3 (ipykernel)",
   "language": "python",
   "name": "python3"
  },
  "language_info": {
   "codemirror_mode": {
    "name": "ipython",
    "version": 3
   },
   "file_extension": ".py",
   "mimetype": "text/x-python",
   "name": "python",
   "nbconvert_exporter": "python",
   "pygments_lexer": "ipython3",
   "version": "3.9.7"
  }
 },
 "nbformat": 4,
 "nbformat_minor": 5
}
