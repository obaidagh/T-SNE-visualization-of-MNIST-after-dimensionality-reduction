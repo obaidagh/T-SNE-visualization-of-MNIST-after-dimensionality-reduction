{
 "cells": [
  {
   "cell_type": "code",
   "execution_count": 1,
   "id": "edc1971f-0fc9-4acb-ab54-bf06d2d827ef",
   "metadata": {
    "_cell_guid": "b1076dfc-b9ad-4769-8c92-a6c4dae69d19",
    "_uuid": "8f2839f25d086af736a60e9eeb907d3b93b6e0e5",
    "tags": []
   },
   "outputs": [],
   "source": [
    "from tensorflow import keras\n",
    "\n",
    "from sklearn.model_selection import train_test_split\n",
    "from sklearn.manifold import TSNE\n",
    "from sklearn.decomposition import FastICA\n",
    "from sklearn.decomposition import PCA\n",
    "\n",
    "import matplotlib.pyplot as plt\n",
    "import plotly.express as px\n",
    "\n",
    "\n",
    "import numpy as np\n",
    "import os\n",
    "\n",
    "from Models.Autoencoder import Compile_model,Train_model\n",
    "from Models.Tsne_and_plot import T_sne_train_or_load,plot_Tsne\n",
    "\n"
   ]
  },
  {
   "cell_type": "code",
   "execution_count": 2,
   "id": "134ced5d-de7a-4db6-b263-15d17657dcbc",
   "metadata": {
    "tags": []
   },
   "outputs": [],
   "source": [
    "(x_train, y_train_), (x_val, y_val_) = keras.datasets.mnist.load_data()\n",
    "\n",
    "x_train = np.expand_dims(x_train, -1).astype(\"float32\") / 255\n",
    "x_val = np.expand_dims(x_val, -1).astype(\"float32\") / 255\n",
    "\n",
    "x_train_flatt = np.reshape(x_train, (60000,784)) "
   ]
  },
  {
   "cell_type": "code",
   "execution_count": 3,
   "id": "3cf959d1-4601-45fc-af8d-8454635f0bf4",
   "metadata": {},
   "outputs": [
    {
     "name": "stdout",
     "output_type": "stream",
     "text": [
      "Loaded weights!\n"
     ]
    },
    {
     "name": "stderr",
     "output_type": "stream",
     "text": [
      "2022-05-10 04:24:13.769640: E tensorflow/stream_executor/cuda/cuda_driver.cc:271] failed call to cuInit: CUDA_ERROR_NO_DEVICE: no CUDA-capable device is detected\n",
      "2022-05-10 04:24:13.769694: I tensorflow/stream_executor/cuda/cuda_diagnostics.cc:156] kernel driver does not appear to be running on this host (UB): /proc/driver/nvidia/version does not exist\n",
      "2022-05-10 04:24:13.770492: I tensorflow/core/platform/cpu_feature_guard.cc:151] This TensorFlow binary is optimized with oneAPI Deep Neural Network Library (oneDNN) to use the following CPU instructions in performance-critical operations:  AVX2 FMA\n",
      "To enable them in other operations, rebuild TensorFlow with the appropriate compiler flags.\n"
     ]
    }
   ],
   "source": [
    "Encoder,Decoder,Autoencoder= Compile_model(input_shape=(28, 28,1),code_size=9)\n",
    "_,my_history=Train_model(Autoencoder,x_train,x_train,x_val,x_val)"
   ]
  },
  {
   "cell_type": "code",
   "execution_count": 4,
   "id": "225a4c85-816e-4c5c-a3ef-86f1917e2f6d",
   "metadata": {},
   "outputs": [
    {
     "name": "stderr",
     "output_type": "stream",
     "text": [
      "2022-05-10 04:24:18.499858: W tensorflow/core/framework/cpu_allocator_impl.cc:82] Allocation of 188160000 exceeds 10% of free system memory.\n"
     ]
    }
   ],
   "source": [
    "XT_AE_9=Encoder.predict(x_train)\n"
   ]
  },
  {
   "cell_type": "code",
   "execution_count": 6,
   "id": "95062f85-e6d6-4e94-8d9c-f319d57ba260",
   "metadata": {},
   "outputs": [
    {
     "data": {
      "text/plain": [
       "'/home/ub/T-SNE-visualization-of-MNIST-after-dimensionality-reduction/saved'"
      ]
     },
     "execution_count": 6,
     "metadata": {},
     "output_type": "execute_result"
    }
   ],
   "source": [
    "os.getcwd()"
   ]
  },
  {
   "cell_type": "code",
   "execution_count": 5,
   "id": "ab9e3bc3-17df-4803-a6df-fd4acbc3a30a",
   "metadata": {},
   "outputs": [
    {
     "ename": "FileNotFoundError",
     "evalue": "[Errno 2] No such file or directory: './saved'",
     "output_type": "error",
     "traceback": [
      "\u001b[0;31m---------------------------------------------------------------------------\u001b[0m",
      "\u001b[0;31mFileNotFoundError\u001b[0m                         Traceback (most recent call last)",
      "\u001b[0;32m/tmp/ipykernel_26578/1122791695.py\u001b[0m in \u001b[0;36m<module>\u001b[0;34m\u001b[0m\n\u001b[0;32m----> 1\u001b[0;31m \u001b[0mTsne_data\u001b[0m \u001b[0;34m=\u001b[0m \u001b[0mT_sne_train_or_load\u001b[0m\u001b[0;34m(\u001b[0m\u001b[0;34m'AE'\u001b[0m\u001b[0;34m,\u001b[0m\u001b[0mXT_AE_9\u001b[0m\u001b[0;34m,\u001b[0m\u001b[0;36m2\u001b[0m\u001b[0;34m,\u001b[0m\u001b[0;36m90\u001b[0m\u001b[0;34m)\u001b[0m\u001b[0;34m\u001b[0m\u001b[0;34m\u001b[0m\u001b[0m\n\u001b[0m",
      "\u001b[0;32m~/T-SNE-visualization-of-MNIST-after-dimensionality-reduction/Models/Tsne_and_plot.py\u001b[0m in \u001b[0;36mT_sne_train_or_load\u001b[0;34m(Dim_reduction_tech, data, n_components, early_exaggeration)\u001b[0m\n\u001b[1;32m      7\u001b[0m \u001b[0;32mdef\u001b[0m \u001b[0mT_sne_train_or_load\u001b[0m\u001b[0;34m(\u001b[0m\u001b[0mDim_reduction_tech\u001b[0m\u001b[0;34m,\u001b[0m\u001b[0mdata\u001b[0m\u001b[0;34m,\u001b[0m\u001b[0mn_components\u001b[0m\u001b[0;34m,\u001b[0m\u001b[0mearly_exaggeration\u001b[0m\u001b[0;34m)\u001b[0m\u001b[0;34m:\u001b[0m\u001b[0;34m\u001b[0m\u001b[0;34m\u001b[0m\u001b[0m\n\u001b[1;32m      8\u001b[0m \u001b[0;34m\u001b[0m\u001b[0m\n\u001b[0;32m----> 9\u001b[0;31m     \u001b[0mos\u001b[0m\u001b[0;34m.\u001b[0m\u001b[0mchdir\u001b[0m\u001b[0;34m(\u001b[0m\u001b[0;34m'./saved'\u001b[0m\u001b[0;34m)\u001b[0m\u001b[0;34m\u001b[0m\u001b[0;34m\u001b[0m\u001b[0m\n\u001b[0m\u001b[1;32m     10\u001b[0m \u001b[0;34m\u001b[0m\u001b[0m\n\u001b[1;32m     11\u001b[0m     \u001b[0mTSNE_file\u001b[0m \u001b[0;34m=\u001b[0m \u001b[0;34m'Tsne_XT_'\u001b[0m \u001b[0;34m+\u001b[0m \u001b[0mDim_reduction_tech\u001b[0m \u001b[0;34m+\u001b[0m \u001b[0;34m'_9.npy'\u001b[0m\u001b[0;34m\u001b[0m\u001b[0;34m\u001b[0m\u001b[0m\n",
      "\u001b[0;31mFileNotFoundError\u001b[0m: [Errno 2] No such file or directory: './saved'"
     ]
    }
   ],
   "source": [
    "Tsne_data = T_sne_train_or_load('AE',XT_AE_9,2,90)a"
   ]
  },
  {
   "cell_type": "code",
   "execution_count": null,
   "id": "ce153668-82f2-4690-8a8f-cc08d04f6f70",
   "metadata": {
    "tags": []
   },
   "outputs": [],
   "source": [
    "fig = plot_Tsne(Tsne_data,y_train_,)\n",
    "fig.show()"
   ]
  }
 ],
 "metadata": {
  "kernelspec": {
   "display_name": "Python 3 (ipykernel)",
   "language": "python",
   "name": "python3"
  },
  "language_info": {
   "codemirror_mode": {
    "name": "ipython",
    "version": 3
   },
   "file_extension": ".py",
   "mimetype": "text/x-python",
   "name": "python",
   "nbconvert_exporter": "python",
   "pygments_lexer": "ipython3",
   "version": "3.9.7"
  }
 },
 "nbformat": 4,
 "nbformat_minor": 5
}
